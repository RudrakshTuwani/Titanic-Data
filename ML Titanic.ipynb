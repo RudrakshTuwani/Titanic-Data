{
 "cells": [
  {
   "cell_type": "code",
   "execution_count": 20,
   "metadata": {
    "collapsed": true
   },
   "outputs": [],
   "source": [
    "import numpy as np\n",
    "import pandas as pd\n",
    "import matplotlib.pyplot as plt\n",
    "import seaborn as sns\n",
    "import math\n",
    "from sklearn.ensemble import RandomForestClassifier\n",
    "import csv\n",
    "\n",
    "%matplotlib inline"
   ]
  },
  {
   "cell_type": "code",
   "execution_count": 21,
   "metadata": {
    "collapsed": false
   },
   "outputs": [],
   "source": [
    "# Reads the file to a dataframe\n",
    "\n",
    "data = pd.read_csv('/home/rudraksh/Desktop/Data Science Projects/Titanic Data/titanic_data.csv')\n",
    "test = pd.read_csv('/home/rudraksh/Desktop/Data Science Projects/Titanic Data/test.csv')\n",
    "test_final = pd.read_csv('/home/rudraksh/Desktop/Data Science Projects/Titanic Data/titanic3.csv')"
   ]
  },
  {
   "cell_type": "markdown",
   "metadata": {},
   "source": [
    "# Data Cleaning"
   ]
  },
  {
   "cell_type": "code",
   "execution_count": 22,
   "metadata": {
    "collapsed": true
   },
   "outputs": [],
   "source": [
    "# Returns the names of columns where we have missing values along with the indices\n",
    "def findnan(df):\n",
    "    cols = list(df.columns)\n",
    "    miss_val = {}\n",
    "    for col in cols:\n",
    "        miss_val[col] = [i for i in range(len(df)) if (df[col].iloc[i] != df[col].iloc[i]) ]\n",
    "    return miss_val\n",
    "\n",
    "miss_val_data = findnan(data)\n",
    "miss_val_test = findnan(test)"
   ]
  },
  {
   "cell_type": "code",
   "execution_count": 23,
   "metadata": {
    "collapsed": false
   },
   "outputs": [
    {
     "name": "stdout",
     "output_type": "stream",
     "text": [
      "Rothes, the Countess. of (Lucy Noel Martha Dyer-Edwards)\n",
      "Reuchlin, Jonkheer. John George\n",
      "Oliva y Ocana, Dona. Fermina\n"
     ]
    }
   ],
   "source": [
    "# Gets the ages of various salutations from the dataset where ages aren't missing\n",
    "\n",
    "complete_age_data = set(range(len(data))) - set(miss_val_data['Age'])\n",
    "complete_age_test = set(range(len(test))) - set(miss_val_test['Age'])\n",
    "\n",
    "ages = {'ms_ages' : [], 'master_ages' : [], 'mrs_ages' : [], 'mr_ages' : [], 'dr_ages' : [], 'rev_ages' : []}\n",
    "\n",
    "for i in complete_age_data:\n",
    "    age = data.iloc[i].Age\n",
    "    name = data.iloc[i].Name\n",
    "    \n",
    "    if 'Miss.' in name:\n",
    "        ages['ms_ages'].append(age)\n",
    "    elif 'Master.' in name:\n",
    "        ages['master_ages'].append(age)\n",
    "    elif ('Mr.' in name) or ('Don.' in name) or ('Major.' in name) or ('Col.' in name) or ('Capt.' in name) or ('Sir' in name):\n",
    "        ages['mr_ages'].append(age)\n",
    "    elif ('Mrs.' in name) or ('Mme.' in name) or ('Lady' in name) or ('Ms.' in name) or ('Mlle.' in name):\n",
    "        ages['mrs_ages'].append(age)\n",
    "    elif 'Dr.' in name:\n",
    "        ages['dr_ages'].append(age)\n",
    "    elif 'Rev.' in name:\n",
    "        ages['rev_ages'].append(age)\n",
    "    else:\n",
    "        print name\n",
    "        \n",
    "for i in complete_age_test:\n",
    "    age = test.iloc[i].Age\n",
    "    name = test.iloc[i].Name\n",
    "    \n",
    "    if 'Miss.' in name:\n",
    "        ages['ms_ages'].append(age)\n",
    "    elif 'Master.' in name:\n",
    "        ages['master_ages'].append(age)\n",
    "    elif ('Mr.' in name) or ('Don.' in name) or ('Major.' in name) or ('Col.' in name) or ('Capt.' in name) or ('Sir' in name):\n",
    "        ages['mr_ages'].append(age)\n",
    "    elif ('Mrs.' in name) or ('Mme.' in name) or ('Lady.' in name) or ('Ms.' in name) or ('Mlle.' in name):\n",
    "        ages['mrs_ages'].append(age)\n",
    "    elif 'Dr.' in name:\n",
    "        ages['dr_ages'].append(age)\n",
    "    elif 'Rev.' in name:\n",
    "        ages['rev_ages'].append(age)\n",
    "    else:\n",
    "        print name\n",
    "    "
   ]
  },
  {
   "cell_type": "code",
   "execution_count": 24,
   "metadata": {
    "collapsed": false
   },
   "outputs": [],
   "source": [
    "# Finds the median of a list\n",
    "def get_median(ages_list):\n",
    "    sorted_list = sorted(ages_list)\n",
    "    n = len(sorted_list)\n",
    "    if n % 2 == 0:\n",
    "        median = (sorted_list[ n/2 - 1] + sorted_list[n/2]) * 0.5\n",
    "    else:\n",
    "        median = sorted_list[(n-1)/2]\n",
    "    return median\n",
    "\n",
    "# Finds the median of all salutations' ages\n",
    "medians = {}\n",
    "for key in ages.keys():\n",
    "    medians[key] = get_median(ages[key])\n",
    "    \n",
    "# Fills missing ages\n",
    "median_df = data.Age.median()\n",
    "\n",
    "for i in miss_val_data['Age']:\n",
    "    name = data.iloc[i].Name\n",
    "\n",
    "    if 'Miss.' in name:\n",
    "        data.set_value(i,'Age', medians['ms_ages'])\n",
    "    elif 'Master.' in name:\n",
    "        data.set_value(i,'Age', medians['master_ages'])\n",
    "    elif ('Mr.' in name) or ('Don.' in name) or ('Major.' in name) or ('Col.' in name) or ('Capt.' in name) or ('Sir' in name):\n",
    "        data.set_value(i,'Age', medians['mr_ages'])\n",
    "    elif ('Mrs.' in name) or ('Mme.' in name) or ('Lady.' in name) or ('Ms.' in name) or ('Mlle.' in name):\n",
    "        data.set_value(i,'Age', medians['mrs_ages'])\n",
    "    elif 'Dr.' in name:\n",
    "        data.set_value(i,'Age', medians['dr_ages'])\n",
    "    elif 'Rev.' in name:\n",
    "        data.set_value(i,'Age', medians['rev_ages'])\n",
    "    else:\n",
    "        data.set_value(i,'Age', median_df)\n",
    "        \n",
    "        \n",
    "for i in miss_val_test['Age']:\n",
    "    name = test.iloc[i].Name\n",
    "\n",
    "    if 'Miss.' in name:\n",
    "        test.set_value(i,'Age', medians['ms_ages'])\n",
    "    elif 'Master.' in name:\n",
    "        test.set_value(i,'Age', medians['master_ages'])\n",
    "    elif ('Mr.' in name) or ('Don.' in name) or ('Major.' in name) or ('Col.' in name) or ('Capt.' in name) or ('Sir' in name):\n",
    "        test.set_value(i,'Age', medians['mr_ages'])\n",
    "    elif ('Mrs.' in name) or ('Mme.' in name) or ('Lady.' in name) or ('Ms.' in name) or ('Mlle.' in name):\n",
    "        test.set_value(i,'Age', medians['mrs_ages'])\n",
    "    elif 'Dr.' in name:\n",
    "        test.set_value(i,'Age', medians['dr_ages'])\n",
    "    elif 'Rev.' in name:\n",
    "        test.set_value(i,'Age', medians['rev_ages'])\n",
    "    else:\n",
    "        test.set_value(i,'Age', median_df)\n",
    "        \n",
    "# Fill the missing age data with median age and fare data with median fare\n",
    "median_age = data.Age.median()\n",
    "median_fare = data.Fare.median()\n",
    "data.fillna({'Age':median_age, 'Fare':median_fare}, inplace = True)\n",
    "\n",
    "\n",
    "median_age = test.Age.median()\n",
    "median_fare = test.Fare.median()\n",
    "test.fillna({'Age':median_age, 'Fare':median_fare}, inplace = True)\n",
    "\n",
    "        \n",
    "# Converts Gender to float\n",
    "data['Sex'] = data.Sex.map({'male':0, 'female':1})\n",
    "\n",
    "test['Sex'] = test.Sex.map({'male':0, 'female':1})\n",
    "\n",
    "\n",
    "# Fill missing Data with mode and convert port of embarkment to float\n",
    "mode_embarked =  data.Embarked.mode().iloc[0]\n",
    "data.fillna({'Embarked': mode_embarked}, inplace = True)\n",
    "data['Embarked'] = data.Embarked.map({'S':0, 'C':1, 'Q':2})\n",
    "\n",
    "mode_embarked =  test.Embarked.mode().iloc[0]\n",
    "test.fillna({'Embarked': mode_embarked}, inplace = True)\n",
    "test['Embarked'] = test.Embarked.map({'S':0, 'C':1, 'Q':2})\n",
    "\n",
    "\n",
    "# Drop columns which are strings\n",
    "data.drop(['PassengerId','Name', 'Ticket', 'Cabin'], axis=1, inplace = True)\n",
    "\n",
    "test_pdata = test.PassengerId\n",
    "test.drop(['PassengerId', 'Name', 'Ticket', 'Cabin'], axis=1, inplace = True)"
   ]
  },
  {
   "cell_type": "code",
   "execution_count": 25,
   "metadata": {
    "collapsed": false
   },
   "outputs": [
    {
     "name": "stdout",
     "output_type": "stream",
     "text": [
      "Feature ranking:\n",
      "1. feature 5 (0.277791)\n",
      "2. feature 2 (0.274233)\n",
      "3. feature 1 (0.242930)\n",
      "4. feature 0 (0.103577)\n",
      "5. feature 3 (0.052007)\n",
      "6. feature 6 (0.027752)\n",
      "7. feature 4 (0.021710)\n"
     ]
    },
    {
     "data": {
      "image/png": "[encoded data removed]",
      "text/plain": [
       "<matplotlib.figure.Figure at 0x7f973cbeeb10>"
      ]
     },
     "metadata": {},
     "output_type": "display_data"
    }
   ],
   "source": [
    "train_labels = data.values[:,0]\n",
    "train_data = data.values[:,1:]\n",
    "test_data = test.values\n",
    "\n",
    "# Build a forest and compute the feature importances\n",
    "clf = RandomForestClassifier(n_estimators=1000, max_features= None, criterion='entropy', min_samples_split =3)\n",
    "clf.fit( train_data, train_labels )\n",
    "importances = clf.feature_importances_\n",
    "std = np.std([tree.feature_importances_ for tree in clf.estimators_],\n",
    "             axis=0)\n",
    "indices = np.argsort(importances)[::-1]\n",
    "\n",
    "# Print the feature ranking\n",
    "print(\"Feature ranking:\")\n",
    "\n",
    "for f in range(train_data.shape[1]):\n",
    "    print(\"%d. feature %d (%f)\" % (f + 1, indices[f], importances[indices[f]]))\n",
    "\n",
    "# Plot the feature importances of the forest\n",
    "plt.figure()\n",
    "plt.title(\"Feature importances\")\n",
    "plt.bar(range(train_data.shape[1]), importances[indices],\n",
    "       color=\"sandybrown\", yerr=std[indices], align=\"center\")\n",
    "plt.xticks(range(train_data.shape[1]), indices)\n",
    "plt.xlim([-1, train_data.shape[1]])\n",
    "plt.show()"
   ]
  },
  {
   "cell_type": "code",
   "execution_count": 26,
   "metadata": {
    "collapsed": false
   },
   "outputs": [
    {
     "data": {
      "text/html": [
       "<div>\n",
       "<table border=\"1\" class=\"dataframe\">\n",
       "  <thead>\n",
       "    <tr style=\"text-align: right;\">\n",
       "      <th></th>\n",
       "      <th>Survived</th>\n",
       "      <th>Pclass</th>\n",
       "      <th>Sex</th>\n",
       "      <th>Age</th>\n",
       "      <th>SibSp</th>\n",
       "      <th>Parch</th>\n",
       "      <th>Fare</th>\n",
       "      <th>Embarked</th>\n",
       "    </tr>\n",
       "  </thead>\n",
       "  <tbody>\n",
       "    <tr>\n",
       "      <th>0</th>\n",
       "      <td>0</td>\n",
       "      <td>3</td>\n",
       "      <td>0</td>\n",
       "      <td>22</td>\n",
       "      <td>1</td>\n",
       "      <td>0</td>\n",
       "      <td>7.2500</td>\n",
       "      <td>0</td>\n",
       "    </tr>\n",
       "    <tr>\n",
       "      <th>1</th>\n",
       "      <td>1</td>\n",
       "      <td>1</td>\n",
       "      <td>1</td>\n",
       "      <td>38</td>\n",
       "      <td>1</td>\n",
       "      <td>0</td>\n",
       "      <td>71.2833</td>\n",
       "      <td>1</td>\n",
       "    </tr>\n",
       "    <tr>\n",
       "      <th>2</th>\n",
       "      <td>1</td>\n",
       "      <td>3</td>\n",
       "      <td>1</td>\n",
       "      <td>26</td>\n",
       "      <td>0</td>\n",
       "      <td>0</td>\n",
       "      <td>7.9250</td>\n",
       "      <td>0</td>\n",
       "    </tr>\n",
       "    <tr>\n",
       "      <th>3</th>\n",
       "      <td>1</td>\n",
       "      <td>1</td>\n",
       "      <td>1</td>\n",
       "      <td>35</td>\n",
       "      <td>1</td>\n",
       "      <td>0</td>\n",
       "      <td>53.1000</td>\n",
       "      <td>0</td>\n",
       "    </tr>\n",
       "    <tr>\n",
       "      <th>4</th>\n",
       "      <td>0</td>\n",
       "      <td>3</td>\n",
       "      <td>0</td>\n",
       "      <td>35</td>\n",
       "      <td>0</td>\n",
       "      <td>0</td>\n",
       "      <td>8.0500</td>\n",
       "      <td>0</td>\n",
       "    </tr>\n",
       "  </tbody>\n",
       "</table>\n",
       "</div>"
      ],
      "text/plain": [
       "   Survived  Pclass  Sex  Age  SibSp  Parch     Fare  Embarked\n",
       "0         0       3    0   22      1      0   7.2500         0\n",
       "1         1       1    1   38      1      0  71.2833         1\n",
       "2         1       3    1   26      0      0   7.9250         0\n",
       "3         1       1    1   35      1      0  53.1000         0\n",
       "4         0       3    0   35      0      0   8.0500         0"
      ]
     },
     "execution_count": 26,
     "metadata": {},
     "output_type": "execute_result"
    }
   ],
   "source": [
    "data.head()"
   ]
  },
  {
   "cell_type": "code",
   "execution_count": 27,
   "metadata": {
    "collapsed": true
   },
   "outputs": [],
   "source": [
    "# Predict\n",
    "test_labels = clf.predict(test_data).astype(int)\n",
    "\n",
    "# convert the solution into a dictionary\n",
    "sol = {'PassengerId': test_pdata, 'Survived':test_labels}\n",
    "\n",
    "with open('titanic_solution.csv', 'wb') as outfile:\n",
    "    w = csv.DictWriter(outfile, sol.keys())\n",
    "    w.writeheader()\n",
    "    for i in range(len(test_labels)):\n",
    "        w.writerow({'PassengerId':test_pdata[i], 'Survived':test_labels[i]})\n",
    "        \n",
    "sol_data = pd.read_csv('/home/rudraksh/Desktop/Data Science Projects/Titanic Data/titanic_solution.csv')"
   ]
  },
  {
   "cell_type": "markdown",
   "metadata": {},
   "source": [
    "# What if we combine parch and sibsp and drop port embarkment"
   ]
  },
  {
   "cell_type": "code",
   "execution_count": 28,
   "metadata": {
    "collapsed": false
   },
   "outputs": [],
   "source": [
    "data['Family'] = data['SibSp'] + data['Parch'] \n",
    "data1 = data.copy() #Backup of data\n",
    "data.drop(['SibSp', 'Parch', 'Embarked'], axis=1, inplace=True)\n",
    "\n",
    "test['Family'] = test['SibSp'] + test['Parch'] \n",
    "test1 = test.copy() #Backup of test data\n",
    "test.drop(['SibSp', 'Parch', 'Embarked'], axis=1, inplace=True)"
   ]
  },
  {
   "cell_type": "code",
   "execution_count": 29,
   "metadata": {
    "collapsed": false
   },
   "outputs": [
    {
     "name": "stdout",
     "output_type": "stream",
     "text": [
      "Feature ranking:\n",
      "1. feature 1 (0.337780)\n",
      "2. feature 3 (0.242006)\n",
      "3. feature 2 (0.236008)\n",
      "4. feature 0 (0.109213)\n",
      "5. feature 4 (0.074993)\n"
     ]
    },
    {
     "data": {
      "image/png": "[encoded data removed]",
      "text/plain": [
       "<matplotlib.figure.Figure at 0x7f973ce70290>"
      ]
     },
     "metadata": {},
     "output_type": "display_data"
    }
   ],
   "source": [
    "train_labels = data.values[:,0]\n",
    "train_data = data.values[:,1:]\n",
    "test_data = test.values\n",
    "\n",
    "# Build a forest and compute the feature importances\n",
    "clf = RandomForestClassifier(n_estimators=100, max_features= None, criterion='gini', min_samples_split =5, oob_score=True)\n",
    "clf.fit( train_data, train_labels )\n",
    "importances = clf.feature_importances_\n",
    "std = np.std([tree.feature_importances_ for tree in clf.estimators_],\n",
    "             axis=0)\n",
    "indices = np.argsort(importances)[::-1]\n",
    "\n",
    "# Print the feature ranking\n",
    "print(\"Feature ranking:\")\n",
    "\n",
    "for f in range(train_data.shape[1]):\n",
    "    print(\"%d. feature %d (%f)\" % (f + 1, indices[f], importances[indices[f]]))\n",
    "\n",
    "# Plot the feature importances of the forest\n",
    "plt.figure()\n",
    "plt.title(\"Feature importances\")\n",
    "plt.bar(range(train_data.shape[1]), importances[indices],\n",
    "       color=\"sandybrown\", yerr=std[indices], align=\"center\")\n",
    "plt.xticks(range(train_data.shape[1]), indices)\n",
    "plt.xlim([-1, train_data.shape[1]])\n",
    "plt.show()"
   ]
  },
  {
   "cell_type": "code",
   "execution_count": 30,
   "metadata": {
    "collapsed": true
   },
   "outputs": [],
   "source": [
    "# Predict\n",
    "test_labels = clf.predict(test_data).astype(int)\n",
    "\n",
    "# convert the solution into a dictionary\n",
    "sol = {'PassengerId': test_pdata, 'Survived':test_labels}\n",
    "\n",
    "with open('titanic_solution.csv', 'wb') as outfile:\n",
    "    w = csv.DictWriter(outfile, sol.keys())\n",
    "    w.writeheader()\n",
    "    for i in range(len(test_labels)):\n",
    "        w.writerow({'PassengerId':test_pdata[i], 'Survived':test_labels[i]})\n",
    "        \n",
    "sol_titanic = pd.read_csv('/home/rudraksh/Desktop/Data Science Projects/Titanic Data/titanic_solution.csv')"
   ]
  },
  {
   "cell_type": "markdown",
   "metadata": {},
   "source": [
    "# Analysis of various factors affecting survival of passengers."
   ]
  },
  {
   "cell_type": "markdown",
   "metadata": {},
   "source": [
    "# Survival by Gender"
   ]
  },
  {
   "cell_type": "code",
   "execution_count": 31,
   "metadata": {
    "collapsed": false
   },
   "outputs": [
    {
     "data": {
      "text/html": [
       "<div>\n",
       "<table border=\"1\" class=\"dataframe\">\n",
       "  <thead>\n",
       "    <tr style=\"text-align: right;\">\n",
       "      <th></th>\n",
       "      <th>Survived</th>\n",
       "      <th>Total</th>\n",
       "      <th>Proportion</th>\n",
       "    </tr>\n",
       "    <tr>\n",
       "      <th>Sex</th>\n",
       "      <th></th>\n",
       "      <th></th>\n",
       "      <th></th>\n",
       "    </tr>\n",
       "  </thead>\n",
       "  <tbody>\n",
       "    <tr>\n",
       "      <th>M</th>\n",
       "      <td>109</td>\n",
       "      <td>577</td>\n",
       "      <td>0.318713</td>\n",
       "    </tr>\n",
       "    <tr>\n",
       "      <th>F</th>\n",
       "      <td>233</td>\n",
       "      <td>314</td>\n",
       "      <td>0.681287</td>\n",
       "    </tr>\n",
       "  </tbody>\n",
       "</table>\n",
       "</div>"
      ],
      "text/plain": [
       "     Survived  Total  Proportion\n",
       "Sex                             \n",
       "M         109    577    0.318713\n",
       "F         233    314    0.681287"
      ]
     },
     "execution_count": 31,
     "metadata": {},
     "output_type": "execute_result"
    },
    {
     "data": {
      "image/png": "[encoded data removed]",
      "text/plain": [
       "<matplotlib.figure.Figure at 0x7f973cbb2710>"
      ]
     },
     "metadata": {},
     "output_type": "display_data"
    }
   ],
   "source": [
    "# Creates separate df for male as well as female\n",
    "\n",
    "male_data = data[data.Sex == 0]\n",
    "male_survived = male_data[male_data.Survived == 1]\n",
    "male_dsurvived = male_data[male_data.Survived == 0]\n",
    "\n",
    "female_data = data[data.Sex == 1]\n",
    "female_survived = female_data[female_data.Survived == 1]\n",
    "female_dsurvived = female_data[female_data.Survived == 0]\n",
    "\n",
    "survived = data[data.Survived == 1]\n",
    "df = survived.groupby('Sex').count()[['Survived']]\n",
    "df = df.rename(index ={0:'M', 1:'F'})\n",
    "df['Total'] = [len(male_data), len(female_data)]\n",
    "df['Proportion'] = df.Survived / df.Survived.sum()\n",
    "\n",
    "# Plots the respective proportion of male and females in survivors as a pie chart.\n",
    "ax = df['Proportion'].plot(kind='pie', figsize =[6,6], autopct='%.2f', fontsize =20, legend = True, labels=None,\n",
    "                      colors = ['steelblue','sandybrown'])\n",
    "ax.set_title('Respective Proportion of Male and Female in Survivors', size=14)\n",
    "\n",
    "df"
   ]
  },
  {
   "cell_type": "code",
   "execution_count": 32,
   "metadata": {
    "collapsed": false
   },
   "outputs": [
    {
     "data": {
      "text/plain": [
       "<matplotlib.text.Text at 0x7f973ca77550>"
      ]
     },
     "execution_count": 32,
     "metadata": {},
     "output_type": "execute_result"
    },
    {
     "data": {
      "image/png": "[encoded data removed]",
      "text/plain": [
       "<matplotlib.figure.Figure at 0x7f973cc39c10>"
      ]
     },
     "metadata": {},
     "output_type": "display_data"
    }
   ],
   "source": [
    "# Plots a stacked bar graph depicting number of people that survived and died respectively.\n",
    "\n",
    "# New column representing number of people that died\n",
    "df['Died'] = df.Total - df.Survived\n",
    "df[['Died', 'Survived']].plot.bar(stacked=True, \n",
    "                                  color = ['steelblue','sandybrown'],\n",
    "                                  figsize = [7.5,5], \n",
    "                                  width = .25)\n",
    "plt.xticks(rotation=0)\n",
    "plt.ylabel('Frequency')\n",
    "plt.title('Bar graph depicting the number of survivors for Male and Female')"
   ]
  },
  {
   "cell_type": "markdown",
   "metadata": {},
   "source": [
    "# Survival by Age"
   ]
  },
  {
   "cell_type": "code",
   "execution_count": 33,
   "metadata": {
    "collapsed": false
   },
   "outputs": [
    {
     "data": {
      "image/png": "[encoded data removed]",
      "text/plain": [
       "<matplotlib.figure.Figure at 0x7f973c9f7110>"
      ]
     },
     "metadata": {},
     "output_type": "display_data"
    },
    {
     "data": {
      "image/png": "[encoded data removed]",
      "text/plain": [
       "<matplotlib.figure.Figure at 0x7f973cd69f10>"
      ]
     },
     "metadata": {},
     "output_type": "display_data"
    },
    {
     "data": {
      "image/png": "[encoded data removed]",
      "text/plain": [
       "<matplotlib.figure.Figure at 0x7f973cefd610>"
      ]
     },
     "metadata": {},
     "output_type": "display_data"
    }
   ],
   "source": [
    "# Plots a stacked histogram depicitng number of people that survived and died wrt age\n",
    "\n",
    "# For the whole dataframe\n",
    "a = pd.DataFrame()\n",
    "a['Died'] = data['Age']\n",
    "a.plot.hist(legend=True)\n",
    "\n",
    "a['Survived'] = data[data.Survived == 1]['Age']\n",
    "a['Survived'].plot.hist(legend=True)\n",
    "plt.xlabel('Age')\n",
    "plt.title('Survival with respect to Age')\n",
    "plt.show()\n",
    "\n",
    "# For men\n",
    "a = pd.DataFrame()\n",
    "a['Died'] = male_data['Age']\n",
    "a.plot.hist(legend=True)\n",
    "\n",
    "a['Survived'] = male_survived['Age']\n",
    "a['Survived'].plot.hist(legend=True)\n",
    "plt.xlabel('Age')\n",
    "plt.title('Survival with respect to Age for Men')\n",
    "plt.show()\n",
    "\n",
    "# For women\n",
    "a = pd.DataFrame()\n",
    "a['Died'] = female_data['Age']\n",
    "a.plot.hist(legend=True)\n",
    "\n",
    "a['Survived'] = female_survived['Age']\n",
    "a['Survived'].plot.hist(legend=True)\n",
    "plt.xlabel('Age')\n",
    "plt.title('Survival with respect to Age for Women')\n",
    "plt.show()"
   ]
  },
  {
   "cell_type": "code",
   "execution_count": 34,
   "metadata": {
    "collapsed": false
   },
   "outputs": [
    {
     "name": "stderr",
     "output_type": "stream",
     "text": [
      "/home/rudraksh/anaconda2/lib/python2.7/site-packages/ipykernel/__main__.py:4: SettingWithCopyWarning: \n",
      "A value is trying to be set on a copy of a slice from a DataFrame.\n",
      "Try using .loc[row_indexer,col_indexer] = value instead\n",
      "\n",
      "See the caveats in the documentation: http://pandas.pydata.org/pandas-docs/stable/indexing.html#indexing-view-versus-copy\n"
     ]
    }
   ],
   "source": [
    "# Gets people that survived and died in a specific age interval. Bins specify the intervals.\n",
    "\n",
    "def get_catg_survival(df, bins_list, param):\n",
    "    df[param + '_catg'] = pd.cut(df[param], bins= bins_list, labels=False)  #Gives label acc to bin and value\n",
    "    catg_survival = {}\n",
    "    for i in range(len(df)):\n",
    "        res = df.iloc[i].Survived\n",
    "        catg = df.iloc[i][param + '_catg']\n",
    "        if catg not in catg_survival:\n",
    "            catg_survival[catg] = [res]\n",
    "        else:\n",
    "            catg_survival[catg].append(res)\n",
    "\n",
    "    catgwise_survival = {}        \n",
    "    for catg in catg_survival:\n",
    "        survived = sum(catg_survival[catg])\n",
    "        died = len(catg_survival[catg]) - survived\n",
    "        catgwise_survival[catg] = [survived, died]\n",
    "    return pd.DataFrame(catgwise_survival, index=['Survived', 'Died'])\n",
    "\n",
    "\n",
    "bins_list = [0, 15, 40 , 55, 100]\n",
    "catg_survivalm = get_catg_survival(male_data, bins_list, 'Age')\n",
    "catg_survivalf = get_catg_survival(female_data, bins_list, 'Age')\n",
    "\n",
    "# Rename columns\n",
    "catg_survivalm.columns = ['0-15', '16-40', '41-55', '56 & above']\n",
    "catg_survivalf.columns = ['0-15', '16-40', '41-55', '56 & above']\n",
    "\n",
    "# Transposes df\n",
    "catg_survivalf = catg_survivalf.T\n",
    "catg_survivalm = catg_survivalm.T\n",
    "\n",
    "# Add a total column and probability of survival column\n",
    "catg_survivalf['Total'] = catg_survivalf.Survived + catg_survivalf.Died\n",
    "catg_survivalm['Total'] = catg_survivalm.Survived + catg_survivalm.Died\n",
    "\n",
    "catg_survivalf['Probability of Survival'] = catg_survivalf.Survived  / catg_survivalf.Total\n",
    "catg_survivalm['Probability of Survival'] = catg_survivalm.Survived  / catg_survivalm.Total\n",
    "\n",
    "# Create a generic df\n",
    "catg_survival = catg_survivalf + catg_survivalm\n",
    "\n",
    "#Since prob are added, they will be wrong.This Corrects it\n",
    "catg_survival['Probability of Survival'] = catg_survival.Survived  / catg_survival.Total"
   ]
  },
  {
   "cell_type": "code",
   "execution_count": 35,
   "metadata": {
    "collapsed": false
   },
   "outputs": [
    {
     "data": {
      "text/html": [
       "<div>\n",
       "<table border=\"1\" class=\"dataframe\">\n",
       "  <thead>\n",
       "    <tr style=\"text-align: right;\">\n",
       "      <th></th>\n",
       "      <th>Survived</th>\n",
       "      <th>Died</th>\n",
       "      <th>Total</th>\n",
       "      <th>Probability of Survival</th>\n",
       "    </tr>\n",
       "  </thead>\n",
       "  <tbody>\n",
       "    <tr>\n",
       "      <th>0-15</th>\n",
       "      <td>28</td>\n",
       "      <td>15</td>\n",
       "      <td>43</td>\n",
       "      <td>0.651163</td>\n",
       "    </tr>\n",
       "    <tr>\n",
       "      <th>16-40</th>\n",
       "      <td>168</td>\n",
       "      <td>55</td>\n",
       "      <td>223</td>\n",
       "      <td>0.753363</td>\n",
       "    </tr>\n",
       "    <tr>\n",
       "      <th>41-55</th>\n",
       "      <td>29</td>\n",
       "      <td>10</td>\n",
       "      <td>39</td>\n",
       "      <td>0.743590</td>\n",
       "    </tr>\n",
       "    <tr>\n",
       "      <th>56 &amp; above</th>\n",
       "      <td>8</td>\n",
       "      <td>1</td>\n",
       "      <td>9</td>\n",
       "      <td>0.888889</td>\n",
       "    </tr>\n",
       "  </tbody>\n",
       "</table>\n",
       "</div>"
      ],
      "text/plain": [
       "            Survived  Died  Total  Probability of Survival\n",
       "0-15              28    15     43                 0.651163\n",
       "16-40            168    55    223                 0.753363\n",
       "41-55             29    10     39                 0.743590\n",
       "56 & above         8     1      9                 0.888889"
      ]
     },
     "execution_count": 35,
     "metadata": {},
     "output_type": "execute_result"
    }
   ],
   "source": [
    "catg_survivalf"
   ]
  },
  {
   "cell_type": "code",
   "execution_count": 36,
   "metadata": {
    "collapsed": false
   },
   "outputs": [
    {
     "data": {
      "text/html": [
       "<div>\n",
       "<table border=\"1\" class=\"dataframe\">\n",
       "  <thead>\n",
       "    <tr style=\"text-align: right;\">\n",
       "      <th></th>\n",
       "      <th>Survived</th>\n",
       "      <th>Died</th>\n",
       "      <th>Total</th>\n",
       "      <th>Probability of Survival</th>\n",
       "    </tr>\n",
       "  </thead>\n",
       "  <tbody>\n",
       "    <tr>\n",
       "      <th>0-15</th>\n",
       "      <td>23</td>\n",
       "      <td>21</td>\n",
       "      <td>44</td>\n",
       "      <td>0.522727</td>\n",
       "    </tr>\n",
       "    <tr>\n",
       "      <th>16-40</th>\n",
       "      <td>68</td>\n",
       "      <td>362</td>\n",
       "      <td>430</td>\n",
       "      <td>0.158140</td>\n",
       "    </tr>\n",
       "    <tr>\n",
       "      <th>41-55</th>\n",
       "      <td>14</td>\n",
       "      <td>58</td>\n",
       "      <td>72</td>\n",
       "      <td>0.194444</td>\n",
       "    </tr>\n",
       "    <tr>\n",
       "      <th>56 &amp; above</th>\n",
       "      <td>4</td>\n",
       "      <td>27</td>\n",
       "      <td>31</td>\n",
       "      <td>0.129032</td>\n",
       "    </tr>\n",
       "  </tbody>\n",
       "</table>\n",
       "</div>"
      ],
      "text/plain": [
       "            Survived  Died  Total  Probability of Survival\n",
       "0-15              23    21     44                 0.522727\n",
       "16-40             68   362    430                 0.158140\n",
       "41-55             14    58     72                 0.194444\n",
       "56 & above         4    27     31                 0.129032"
      ]
     },
     "execution_count": 36,
     "metadata": {},
     "output_type": "execute_result"
    }
   ],
   "source": [
    "catg_survivalm"
   ]
  },
  {
   "cell_type": "code",
   "execution_count": 37,
   "metadata": {
    "collapsed": false
   },
   "outputs": [
    {
     "data": {
      "text/html": [
       "<div>\n",
       "<table border=\"1\" class=\"dataframe\">\n",
       "  <thead>\n",
       "    <tr style=\"text-align: right;\">\n",
       "      <th></th>\n",
       "      <th>Survived</th>\n",
       "      <th>Died</th>\n",
       "      <th>Total</th>\n",
       "      <th>Probability of Survival</th>\n",
       "    </tr>\n",
       "  </thead>\n",
       "  <tbody>\n",
       "    <tr>\n",
       "      <th>0-15</th>\n",
       "      <td>51</td>\n",
       "      <td>36</td>\n",
       "      <td>87</td>\n",
       "      <td>0.586207</td>\n",
       "    </tr>\n",
       "    <tr>\n",
       "      <th>16-40</th>\n",
       "      <td>236</td>\n",
       "      <td>417</td>\n",
       "      <td>653</td>\n",
       "      <td>0.361409</td>\n",
       "    </tr>\n",
       "    <tr>\n",
       "      <th>41-55</th>\n",
       "      <td>43</td>\n",
       "      <td>68</td>\n",
       "      <td>111</td>\n",
       "      <td>0.387387</td>\n",
       "    </tr>\n",
       "    <tr>\n",
       "      <th>56 &amp; above</th>\n",
       "      <td>12</td>\n",
       "      <td>28</td>\n",
       "      <td>40</td>\n",
       "      <td>0.300000</td>\n",
       "    </tr>\n",
       "  </tbody>\n",
       "</table>\n",
       "</div>"
      ],
      "text/plain": [
       "            Survived  Died  Total  Probability of Survival\n",
       "0-15              51    36     87                 0.586207\n",
       "16-40            236   417    653                 0.361409\n",
       "41-55             43    68    111                 0.387387\n",
       "56 & above        12    28     40                 0.300000"
      ]
     },
     "execution_count": 37,
     "metadata": {},
     "output_type": "execute_result"
    }
   ],
   "source": [
    "catg_survival"
   ]
  },
  {
   "cell_type": "markdown",
   "metadata": {},
   "source": [
    "# Survival by Fare:"
   ]
  },
  {
   "cell_type": "code",
   "execution_count": 38,
   "metadata": {
    "collapsed": false
   },
   "outputs": [
    {
     "name": "stderr",
     "output_type": "stream",
     "text": [
      "/home/rudraksh/anaconda2/lib/python2.7/site-packages/ipykernel/__main__.py:4: SettingWithCopyWarning: \n",
      "A value is trying to be set on a copy of a slice from a DataFrame.\n",
      "Try using .loc[row_indexer,col_indexer] = value instead\n",
      "\n",
      "See the caveats in the documentation: http://pandas.pydata.org/pandas-docs/stable/indexing.html#indexing-view-versus-copy\n"
     ]
    },
    {
     "data": {
      "text/html": [
       "<div>\n",
       "<table border=\"1\" class=\"dataframe\">\n",
       "  <thead>\n",
       "    <tr style=\"text-align: right;\">\n",
       "      <th></th>\n",
       "      <th>Survived</th>\n",
       "      <th>Died</th>\n",
       "      <th>Total</th>\n",
       "      <th>Probability of Survival</th>\n",
       "    </tr>\n",
       "  </thead>\n",
       "  <tbody>\n",
       "    <tr>\n",
       "      <th>0-10</th>\n",
       "      <td>67</td>\n",
       "      <td>269</td>\n",
       "      <td>336</td>\n",
       "      <td>0.199405</td>\n",
       "    </tr>\n",
       "    <tr>\n",
       "      <th>11-30</th>\n",
       "      <td>139</td>\n",
       "      <td>182</td>\n",
       "      <td>321</td>\n",
       "      <td>0.433022</td>\n",
       "    </tr>\n",
       "    <tr>\n",
       "      <th>31-100</th>\n",
       "      <td>97</td>\n",
       "      <td>84</td>\n",
       "      <td>181</td>\n",
       "      <td>0.535912</td>\n",
       "    </tr>\n",
       "    <tr>\n",
       "      <th>100-200</th>\n",
       "      <td>25</td>\n",
       "      <td>8</td>\n",
       "      <td>33</td>\n",
       "      <td>0.757576</td>\n",
       "    </tr>\n",
       "    <tr>\n",
       "      <th>201-300</th>\n",
       "      <td>11</td>\n",
       "      <td>6</td>\n",
       "      <td>17</td>\n",
       "      <td>0.647059</td>\n",
       "    </tr>\n",
       "    <tr>\n",
       "      <th>301 and above</th>\n",
       "      <td>3</td>\n",
       "      <td>0</td>\n",
       "      <td>3</td>\n",
       "      <td>1.000000</td>\n",
       "    </tr>\n",
       "  </tbody>\n",
       "</table>\n",
       "</div>"
      ],
      "text/plain": [
       "               Survived  Died  Total  Probability of Survival\n",
       "0-10                 67   269    336                 0.199405\n",
       "11-30               139   182    321                 0.433022\n",
       "31-100               97    84    181                 0.535912\n",
       "100-200              25     8     33                 0.757576\n",
       "201-300              11     6     17                 0.647059\n",
       "301 and above         3     0      3                 1.000000"
      ]
     },
     "execution_count": 38,
     "metadata": {},
     "output_type": "execute_result"
    }
   ],
   "source": [
    "# Get fare wise survival in specific age intervals\n",
    "bins_list = [-1, 10, 30, 100, 200, 300, 600]\n",
    "fare_catg_survival = get_catg_survival(data, bins_list, 'Fare')\n",
    "fare_catg_survival_f = get_catg_survival(male_data, bins_list, 'Fare')\n",
    "fare_catg_survival_m = get_catg_survival(male_data, bins_list, 'Fare')\n",
    "\n",
    "# Renames columns and transposes it\n",
    "fare_catg_survival.columns = ['0-10', '11-30','31-100', '100-200', '201-300', '301 and above']\n",
    "fare_catg_survival_f.columns = ['0-10', '11-30','31-100', '100-200', '201-300', '301 and above']\n",
    "fare_catg_survival_m.columns = ['0-10', '11-30','31-100', '100-200', '201-300', '301 and above']\n",
    "\n",
    "fare_catg_survival = fare_catg_survival.T\n",
    "fare_catg_survival_f = fare_catg_survival_f.T\n",
    "fare_catg_survival_m = fare_catg_survival_m.T\n",
    "\n",
    "# Create a probability of survival and total column\n",
    "fare_catg_survival['Total'] =  fare_catg_survival.Survived + fare_catg_survival.Died\n",
    "fare_catg_survival['Probability of Survival'] = fare_catg_survival.Survived / fare_catg_survival.Total\n",
    "\n",
    "fare_catg_survival_f['Total'] =  fare_catg_survival_f.Survived + fare_catg_survival_f.Died\n",
    "fare_catg_survival_f['Probability of Survival'] = fare_catg_survival_f.Survived / fare_catg_survival_f.Total\n",
    "\n",
    "fare_catg_survival_m['Total'] =  fare_catg_survival_m.Survived + fare_catg_survival_m.Died\n",
    "fare_catg_survival_m['Probability of Survival'] = fare_catg_survival_m.Survived / fare_catg_survival_m.Total\n",
    "\n",
    "fare_catg_survival"
   ]
  },
  {
   "cell_type": "code",
   "execution_count": 39,
   "metadata": {
    "collapsed": false
   },
   "outputs": [
    {
     "data": {
      "text/html": [
       "<div>\n",
       "<table border=\"1\" class=\"dataframe\">\n",
       "  <thead>\n",
       "    <tr style=\"text-align: right;\">\n",
       "      <th></th>\n",
       "      <th>Survived</th>\n",
       "      <th>Died</th>\n",
       "      <th>Total</th>\n",
       "      <th>Probability of Survival</th>\n",
       "    </tr>\n",
       "  </thead>\n",
       "  <tbody>\n",
       "    <tr>\n",
       "      <th>0-10</th>\n",
       "      <td>29</td>\n",
       "      <td>243</td>\n",
       "      <td>272</td>\n",
       "      <td>0.106618</td>\n",
       "    </tr>\n",
       "    <tr>\n",
       "      <th>11-30</th>\n",
       "      <td>41</td>\n",
       "      <td>143</td>\n",
       "      <td>184</td>\n",
       "      <td>0.222826</td>\n",
       "    </tr>\n",
       "    <tr>\n",
       "      <th>31-100</th>\n",
       "      <td>32</td>\n",
       "      <td>70</td>\n",
       "      <td>102</td>\n",
       "      <td>0.313725</td>\n",
       "    </tr>\n",
       "    <tr>\n",
       "      <th>100-200</th>\n",
       "      <td>5</td>\n",
       "      <td>6</td>\n",
       "      <td>11</td>\n",
       "      <td>0.454545</td>\n",
       "    </tr>\n",
       "    <tr>\n",
       "      <th>201-300</th>\n",
       "      <td>0</td>\n",
       "      <td>6</td>\n",
       "      <td>6</td>\n",
       "      <td>0.000000</td>\n",
       "    </tr>\n",
       "    <tr>\n",
       "      <th>301 and above</th>\n",
       "      <td>2</td>\n",
       "      <td>0</td>\n",
       "      <td>2</td>\n",
       "      <td>1.000000</td>\n",
       "    </tr>\n",
       "  </tbody>\n",
       "</table>\n",
       "</div>"
      ],
      "text/plain": [
       "               Survived  Died  Total  Probability of Survival\n",
       "0-10                 29   243    272                 0.106618\n",
       "11-30                41   143    184                 0.222826\n",
       "31-100               32    70    102                 0.313725\n",
       "100-200               5     6     11                 0.454545\n",
       "201-300               0     6      6                 0.000000\n",
       "301 and above         2     0      2                 1.000000"
      ]
     },
     "execution_count": 39,
     "metadata": {},
     "output_type": "execute_result"
    }
   ],
   "source": [
    "fare_catg_survival_f"
   ]
  },
  {
   "cell_type": "code",
   "execution_count": 40,
   "metadata": {
    "collapsed": false
   },
   "outputs": [
    {
     "data": {
      "text/html": [
       "<div>\n",
       "<table border=\"1\" class=\"dataframe\">\n",
       "  <thead>\n",
       "    <tr style=\"text-align: right;\">\n",
       "      <th></th>\n",
       "      <th>Survived</th>\n",
       "      <th>Died</th>\n",
       "      <th>Total</th>\n",
       "      <th>Probability of Survival</th>\n",
       "    </tr>\n",
       "  </thead>\n",
       "  <tbody>\n",
       "    <tr>\n",
       "      <th>0-10</th>\n",
       "      <td>29</td>\n",
       "      <td>243</td>\n",
       "      <td>272</td>\n",
       "      <td>0.106618</td>\n",
       "    </tr>\n",
       "    <tr>\n",
       "      <th>11-30</th>\n",
       "      <td>41</td>\n",
       "      <td>143</td>\n",
       "      <td>184</td>\n",
       "      <td>0.222826</td>\n",
       "    </tr>\n",
       "    <tr>\n",
       "      <th>31-100</th>\n",
       "      <td>32</td>\n",
       "      <td>70</td>\n",
       "      <td>102</td>\n",
       "      <td>0.313725</td>\n",
       "    </tr>\n",
       "    <tr>\n",
       "      <th>100-200</th>\n",
       "      <td>5</td>\n",
       "      <td>6</td>\n",
       "      <td>11</td>\n",
       "      <td>0.454545</td>\n",
       "    </tr>\n",
       "    <tr>\n",
       "      <th>201-300</th>\n",
       "      <td>0</td>\n",
       "      <td>6</td>\n",
       "      <td>6</td>\n",
       "      <td>0.000000</td>\n",
       "    </tr>\n",
       "    <tr>\n",
       "      <th>301 and above</th>\n",
       "      <td>2</td>\n",
       "      <td>0</td>\n",
       "      <td>2</td>\n",
       "      <td>1.000000</td>\n",
       "    </tr>\n",
       "  </tbody>\n",
       "</table>\n",
       "</div>"
      ],
      "text/plain": [
       "               Survived  Died  Total  Probability of Survival\n",
       "0-10                 29   243    272                 0.106618\n",
       "11-30                41   143    184                 0.222826\n",
       "31-100               32    70    102                 0.313725\n",
       "100-200               5     6     11                 0.454545\n",
       "201-300               0     6      6                 0.000000\n",
       "301 and above         2     0      2                 1.000000"
      ]
     },
     "execution_count": 40,
     "metadata": {},
     "output_type": "execute_result"
    }
   ],
   "source": [
    "fare_catg_survival_m"
   ]
  },
  {
   "cell_type": "markdown",
   "metadata": {},
   "source": [
    "# Survival by Age and Fare"
   ]
  },
  {
   "cell_type": "code",
   "execution_count": 41,
   "metadata": {
    "collapsed": false
   },
   "outputs": [
    {
     "data": {
      "image/png": "[encoded data removed]",
      "text/plain": [
       "<matplotlib.figure.Figure at 0x7f973c8e8990>"
      ]
     },
     "metadata": {},
     "output_type": "display_data"
    }
   ],
   "source": [
    "fig = plt.figure(figsize=[10,7.5])\n",
    "ax1 = fig.add_subplot(111, title = 'Scatter plot depicting Survival wrt Age and Fare.', xlabel = 'Age',\n",
    "                      ylabel = 'Fare Paid')\n",
    "\n",
    "ax1.scatter(x=male_survived.Age, y=male_survived.Fare, s=10, c='r', marker=\"o\", label='Survived')\n",
    "ax1.scatter(x=male_dsurvived.Age, y=male_dsurvived.Fare, s=10, c='b', marker=\"o\", label = 'Died')\n",
    "ax1.scatter(x=female_survived.Age, y=female_survived.Fare, s=10, c='r', marker=\"o\", label= None)\n",
    "ax1.scatter(x=female_dsurvived.Age, y=female_dsurvived.Fare, s=10, c='b', marker=\"o\", label = None)\n",
    "plt.legend(loc='upper right')\n",
    "plt.show()"
   ]
  },
  {
   "cell_type": "code",
   "execution_count": 42,
   "metadata": {
    "collapsed": false
   },
   "outputs": [
    {
     "data": {
      "image/png": "[encoded data removed]",
      "text/plain": [
       "<matplotlib.figure.Figure at 0x7f973c8e89d0>"
      ]
     },
     "metadata": {},
     "output_type": "display_data"
    }
   ],
   "source": [
    "fig = plt.figure(figsize=[10,7.5])\n",
    "ax1 = fig.add_subplot(111, title = 'Scatter plot depicting Survival wrt Age and Fare for Female', xlabel = 'Age',\n",
    "                      ylabel = 'Fare Paid')\n",
    "\n",
    "ax1.scatter(x=female_survived.Age, y=female_survived.Fare, s=10, c='r', marker=\"o\", label='Survived')\n",
    "ax1.scatter(x=female_dsurvived.Age, y=female_dsurvived.Fare, s=10, c='b', marker=\"o\", label = 'Died')\n",
    "plt.legend(loc='upper right')\n",
    "plt.show()"
   ]
  },
  {
   "cell_type": "markdown",
   "metadata": {},
   "source": [
    "# Survival by Passenger Class"
   ]
  },
  {
   "cell_type": "code",
   "execution_count": 43,
   "metadata": {
    "collapsed": false
   },
   "outputs": [
    {
     "data": {
      "text/html": [
       "<div>\n",
       "<table border=\"1\" class=\"dataframe\">\n",
       "  <thead>\n",
       "    <tr style=\"text-align: right;\">\n",
       "      <th></th>\n",
       "      <th>Survived</th>\n",
       "      <th>Total</th>\n",
       "      <th>Died</th>\n",
       "      <th>Probability of Survival</th>\n",
       "    </tr>\n",
       "    <tr>\n",
       "      <th>Pclass</th>\n",
       "      <th></th>\n",
       "      <th></th>\n",
       "      <th></th>\n",
       "      <th></th>\n",
       "    </tr>\n",
       "  </thead>\n",
       "  <tbody>\n",
       "    <tr>\n",
       "      <th>1</th>\n",
       "      <td>45</td>\n",
       "      <td>122</td>\n",
       "      <td>77</td>\n",
       "      <td>0.368852</td>\n",
       "    </tr>\n",
       "    <tr>\n",
       "      <th>2</th>\n",
       "      <td>17</td>\n",
       "      <td>108</td>\n",
       "      <td>91</td>\n",
       "      <td>0.157407</td>\n",
       "    </tr>\n",
       "    <tr>\n",
       "      <th>3</th>\n",
       "      <td>47</td>\n",
       "      <td>347</td>\n",
       "      <td>300</td>\n",
       "      <td>0.135447</td>\n",
       "    </tr>\n",
       "  </tbody>\n",
       "</table>\n",
       "</div>"
      ],
      "text/plain": [
       "        Survived  Total  Died  Probability of Survival\n",
       "Pclass                                                \n",
       "1             45    122    77                 0.368852\n",
       "2             17    108    91                 0.157407\n",
       "3             47    347   300                 0.135447"
      ]
     },
     "execution_count": 43,
     "metadata": {},
     "output_type": "execute_result"
    }
   ],
   "source": [
    "# Survival statistics by Pclass for Male\n",
    "a = male_data.groupby('Pclass').sum()[['Survived']]\n",
    "a['Total'] = male_data.groupby('Pclass').count()['Survived']\n",
    "a['Died'] = a.Total - a.Survived\n",
    "a['Probability of Survival'] = a.Survived / a.Total\n",
    "a"
   ]
  },
  {
   "cell_type": "code",
   "execution_count": 44,
   "metadata": {
    "collapsed": false
   },
   "outputs": [
    {
     "data": {
      "text/html": [
       "<div>\n",
       "<table border=\"1\" class=\"dataframe\">\n",
       "  <thead>\n",
       "    <tr style=\"text-align: right;\">\n",
       "      <th></th>\n",
       "      <th>Survived</th>\n",
       "      <th>Total</th>\n",
       "      <th>Died</th>\n",
       "      <th>Probability of Survival</th>\n",
       "    </tr>\n",
       "    <tr>\n",
       "      <th>Pclass</th>\n",
       "      <th></th>\n",
       "      <th></th>\n",
       "      <th></th>\n",
       "      <th></th>\n",
       "    </tr>\n",
       "  </thead>\n",
       "  <tbody>\n",
       "    <tr>\n",
       "      <th>1</th>\n",
       "      <td>91</td>\n",
       "      <td>94</td>\n",
       "      <td>3</td>\n",
       "      <td>0.968085</td>\n",
       "    </tr>\n",
       "    <tr>\n",
       "      <th>2</th>\n",
       "      <td>70</td>\n",
       "      <td>76</td>\n",
       "      <td>6</td>\n",
       "      <td>0.921053</td>\n",
       "    </tr>\n",
       "    <tr>\n",
       "      <th>3</th>\n",
       "      <td>72</td>\n",
       "      <td>144</td>\n",
       "      <td>72</td>\n",
       "      <td>0.500000</td>\n",
       "    </tr>\n",
       "  </tbody>\n",
       "</table>\n",
       "</div>"
      ],
      "text/plain": [
       "        Survived  Total  Died  Probability of Survival\n",
       "Pclass                                                \n",
       "1             91     94     3                 0.968085\n",
       "2             70     76     6                 0.921053\n",
       "3             72    144    72                 0.500000"
      ]
     },
     "execution_count": 44,
     "metadata": {},
     "output_type": "execute_result"
    }
   ],
   "source": [
    "# Survival statistics by Pclass for Female\n",
    "b = female_data.groupby('Pclass').sum()[['Survived']]\n",
    "b['Total'] = female_data.groupby('Pclass').count()['Survived']\n",
    "b['Died'] = b.Total - b.Survived\n",
    "b['Probability of Survival'] = b.Survived / b.Total\n",
    "b"
   ]
  },
  {
   "cell_type": "code",
   "execution_count": 45,
   "metadata": {
    "collapsed": false
   },
   "outputs": [
    {
     "data": {
      "text/html": [
       "<div>\n",
       "<table border=\"1\" class=\"dataframe\">\n",
       "  <thead>\n",
       "    <tr style=\"text-align: right;\">\n",
       "      <th></th>\n",
       "      <th>Survived</th>\n",
       "      <th>Total</th>\n",
       "      <th>Died</th>\n",
       "      <th>Probability of Survival</th>\n",
       "    </tr>\n",
       "    <tr>\n",
       "      <th>Pclass</th>\n",
       "      <th></th>\n",
       "      <th></th>\n",
       "      <th></th>\n",
       "      <th></th>\n",
       "    </tr>\n",
       "  </thead>\n",
       "  <tbody>\n",
       "    <tr>\n",
       "      <th>1</th>\n",
       "      <td>136</td>\n",
       "      <td>216</td>\n",
       "      <td>80</td>\n",
       "      <td>0.629630</td>\n",
       "    </tr>\n",
       "    <tr>\n",
       "      <th>2</th>\n",
       "      <td>87</td>\n",
       "      <td>184</td>\n",
       "      <td>97</td>\n",
       "      <td>0.472826</td>\n",
       "    </tr>\n",
       "    <tr>\n",
       "      <th>3</th>\n",
       "      <td>119</td>\n",
       "      <td>491</td>\n",
       "      <td>372</td>\n",
       "      <td>0.242363</td>\n",
       "    </tr>\n",
       "  </tbody>\n",
       "</table>\n",
       "</div>"
      ],
      "text/plain": [
       "        Survived  Total  Died  Probability of Survival\n",
       "Pclass                                                \n",
       "1            136    216    80                 0.629630\n",
       "2             87    184    97                 0.472826\n",
       "3            119    491   372                 0.242363"
      ]
     },
     "execution_count": 45,
     "metadata": {},
     "output_type": "execute_result"
    }
   ],
   "source": [
    "# Total survival statistics\n",
    "c = a+b\n",
    "c['Probability of Survival'] = c.Survived / c.Total              # Puts the corrected probability here\n",
    "c"
   ]
  },
  {
   "cell_type": "markdown",
   "metadata": {},
   "source": [
    "#  Survival by Age and Passenger Class"
   ]
  },
  {
   "cell_type": "code",
   "execution_count": 46,
   "metadata": {
    "collapsed": false
   },
   "outputs": [
    {
     "data": {
      "image/png": "[encoded data removed]",
      "text/plain": [
       "<matplotlib.figure.Figure at 0x7f973cefd190>"
      ]
     },
     "metadata": {},
     "output_type": "display_data"
    },
    {
     "data": {
      "image/png": "[encoded data removed]",
      "text/plain": [
       "<matplotlib.figure.Figure at 0x7f973d033710>"
      ]
     },
     "metadata": {},
     "output_type": "display_data"
    },
    {
     "data": {
      "image/png": "[encoded data removed]",
      "text/plain": [
       "<matplotlib.figure.Figure at 0x7f973cc31690>"
      ]
     },
     "metadata": {},
     "output_type": "display_data"
    }
   ],
   "source": [
    "# Plots a scatter plot depicting survival wrt passenger class and age \n",
    "fig = plt.figure(figsize=[10,7.5])\n",
    "ax1 = fig.add_subplot(111, title = 'Scatter plot depicting Survival wrt Age and Class', xlabel = 'Age',\n",
    "                      ylabel = 'Passenger Class')\n",
    "\n",
    "ax1.scatter(x=male_survived.Age, y=male_survived.Pclass, s=10, c='r', marker=\"o\", label='Survived')\n",
    "ax1.scatter(x=male_dsurvived.Age, y=male_dsurvived.Pclass, s=10, c='b', marker=\"o\", label = 'Died')\n",
    "ax1.scatter(x=female_survived.Age, y=female_survived.Pclass, s=10, c='r', marker=\"o\", label= None)\n",
    "ax1.scatter(x=female_dsurvived.Age, y=female_dsurvived.Pclass, s=10, c='b', marker=\"o\", label = None)\n",
    "plt.legend(loc='upper right')\n",
    "plt.yticks([1,2,3])\n",
    "plt.xticks([i*10 for i in range(9)])\n",
    "plt.show()\n",
    "\n",
    "# For men\n",
    "fig = plt.figure(figsize=[10,7.5])\n",
    "ax1 = fig.add_subplot(111, title = 'Scatter plot depicting Survival wrt Age and Class for Male', xlabel = 'Age',\n",
    "                      ylabel = 'Passenger Class')\n",
    "\n",
    "ax1.scatter(x=male_survived.Age, y=male_survived.Pclass, s=10, c='r', marker=\"o\", label='Survived')\n",
    "ax1.scatter(x=male_dsurvived.Age, y=male_dsurvived.Pclass, s=10, c='b', marker=\"o\", label = 'Died')\n",
    "plt.legend(loc='upper right')\n",
    "plt.yticks([1,2,3])\n",
    "plt.xticks([i*10 for i in range(9)])\n",
    "plt.show()\n",
    "\n",
    "# For women\n",
    "fig = plt.figure(figsize=[10,7.5])\n",
    "ax1 = fig.add_subplot(111, title = 'Scatter plot depicting Survival wrt Age and Class for Female', xlabel = 'Age',\n",
    "                      ylabel = 'Passenger Class')\n",
    "\n",
    "ax1.scatter(x=female_survived.Age, y=female_survived.Pclass, s=10, c='r', marker=\"o\", label='Survived')\n",
    "ax1.scatter(x=female_dsurvived.Age, y=female_dsurvived.Pclass, s=10, c='b', marker=\"o\", label = 'Died')\n",
    "plt.legend(loc='upper right')\n",
    "plt.yticks([1,2,3])\n",
    "plt.xticks([i*10 for i in range(9)])\n",
    "plt.show()"
   ]
  }
 ],
 "metadata": {
  "kernelspec": {
   "display_name": "Python 2",
   "language": "python",
   "name": "python2"
  },
  "language_info": {
   "codemirror_mode": {
    "name": "ipython",
    "version": 2
   },
   "file_extension": ".py",
   "mimetype": "text/x-python",
   "name": "python",
   "nbconvert_exporter": "python",
   "pygments_lexer": "ipython2",
   "version": "2.7.10"
  }
 },
 "nbformat": 4,
 "nbformat_minor": 0
}
